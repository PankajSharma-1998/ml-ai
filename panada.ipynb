{
  "cells": [
    {
      "cell_type": "markdown",
      "metadata": {
        "id": "view-in-github",
        "colab_type": "text"
      },
      "source": [
        "<a href=\"https://colab.research.google.com/github/PankajSharma-1998/ml-ai/blob/master/panada.ipynb\" target=\"_parent\"><img src=\"https://colab.research.google.com/assets/colab-badge.svg\" alt=\"Open In Colab\"/></a>"
      ]
    },
    {
      "cell_type": "code",
      "source": [
        "# https://www.geeksforgeeks.org/pandas-tutorial/\n",
        "import pandas as pd\n",
        "from IPython.display import display, HTML"
      ],
      "metadata": {
        "id": "2mGz3WFVQ0Gk"
      },
      "execution_count": 2,
      "outputs": []
    },
    {
      "cell_type": "code",
      "source": [
        "# Data\n",
        "list1 = list1 = [\"tom\", \"dick\", \"harry\"]\n",
        "\n",
        "dict1 = {\n",
        "  \"calories\": [420, 380, 390],\n",
        "  \"duration\": [50, 40, 45]\n",
        "}\n",
        "\n",
        "dict2 = {\n",
        "  \"calories\": [500, 1000, 2000],\n",
        "  \"duration\": [50, 48, 56]\n",
        "}\n",
        "\n",
        "csv_data = pd.read_csv(\"/content/sample_data/california_housing_test.csv\")"
      ],
      "metadata": {
        "id": "45y0J48UhOFn"
      },
      "execution_count": 3,
      "outputs": []
    },
    {
      "cell_type": "code",
      "source": [
        "# pandas series creating objects\n",
        "# pd.Series() shows Column wise informations\n",
        "df_series_list = pd.Series(list1)\n",
        "print(df_series_list)\n",
        "\n",
        "\n",
        "# Key/Value Objects as Series\n",
        "df_series_dict = pd.Series(dict1)\n",
        "print(df_series_dict)\n",
        "\n",
        "# label specification, if not specified index would be 0,1,2,3\n",
        "df_series_list = pd.Series(list1, index=[\"x\", \"y\", \"z\"])\n",
        "print(df_series_list)\n",
        "\n",
        "# access data using index\n",
        "print(df_series_list[\"x\"])"
      ],
      "metadata": {
        "colab": {
          "base_uri": "https://localhost:8080/"
        },
        "id": "U5d5xQ-Dg4SX",
        "outputId": "5c51c24b-7f28-47b6-b699-3ddcfc0d2c18"
      },
      "execution_count": 4,
      "outputs": [
        {
          "output_type": "stream",
          "name": "stdout",
          "text": [
            "0      tom\n",
            "1     dick\n",
            "2    harry\n",
            "dtype: object\n",
            "calories    [420, 380, 390]\n",
            "duration       [50, 40, 45]\n",
            "dtype: object\n",
            "x      tom\n",
            "y     dick\n",
            "z    harry\n",
            "dtype: object\n",
            "tom\n"
          ]
        }
      ]
    },
    {
      "cell_type": "code",
      "source": [
        "# creating objects/ pandas dataframe\n",
        "# https://www.geeksforgeeks.org/creating-a-pandas-dataframe/?ref=lbp\n",
        "\n",
        "# empty dataframe\n",
        "df = pd.DataFrame()\n",
        "print(\"Empty Df: \", df)\n",
        "\n",
        "# note:DataFrame is like 2d table\n",
        "df_list = pd.DataFrame(list1, index=[\"x\", \"y\", \"z\"])\n",
        "print(\"pd.DataFrame(list1): \", df_list)\n",
        "\n",
        "# Convert the dictionary into DataFrame\n",
        "df_dict = pd.DataFrame(dict1)\n",
        "print(\"pd.DataFrame(dict1): \", df_dict)\n",
        "\n",
        "# reading dict as series,\n",
        "df_dict_series = pd.Series(dict1)\n",
        "print(\"pd.Series(dict1): \", df_dict_series)\n",
        "\n",
        "# access DataFrame data\n",
        "print(\"read data as DataFrame: \", df_dict[[\"calories\"]], type(df_dict[[\"calories\"]]))\n",
        "print(\"read data as Series: \", df_dict[\"calories\"], type(df_dict[\"calories\"]))"
      ],
      "metadata": {
        "colab": {
          "base_uri": "https://localhost:8080/"
        },
        "id": "SETyY3k9T18p",
        "outputId": "7078b5b0-dded-4941-ea40-a31f7147b309"
      },
      "execution_count": 5,
      "outputs": [
        {
          "output_type": "stream",
          "name": "stdout",
          "text": [
            "Empty Df:  Empty DataFrame\n",
            "Columns: []\n",
            "Index: []\n",
            "pd.DataFrame(list1):         0\n",
            "x    tom\n",
            "y   dick\n",
            "z  harry\n",
            "pd.DataFrame(dict1):     calories  duration\n",
            "0       420        50\n",
            "1       380        40\n",
            "2       390        45\n",
            "pd.Series(dict1):  calories    [420, 380, 390]\n",
            "duration       [50, 40, 45]\n",
            "dtype: object\n",
            "read data as DataFrame:     calories\n",
            "0       420\n",
            "1       380\n",
            "2       390 <class 'pandas.core.frame.DataFrame'>\n",
            "read data as Series:  0    420\n",
            "1    380\n",
            "2    390\n",
            "Name: calories, dtype: int64 <class 'pandas.core.series.Series'>\n"
          ]
        }
      ]
    },
    {
      "cell_type": "code",
      "source": [
        "# analyze/view data\n",
        "df_csv = pd.DataFrame(csv_data)\n",
        "\n",
        "# print head and tail\n",
        "print(\"df_csv.head(2): \", df_csv.head(2))\n",
        "print(\"df_csv.tail(2): \", df_csv.tail(2))\n",
        "\n",
        "# creating series\n",
        "df_csv_series = df_csv[\"longitude\"].head(2)\n",
        "print(\"creating series: \", df_csv_series)\n",
        "\n",
        "# df.info() use to get Empty values, or Null values, information\n",
        "print(\"df_csv.info()\", df_csv.info())\n",
        "\n",
        "# df.describe() to get statical data like mean, median, mode, sd\n",
        "print(\"df_csv.describe()\", df_csv.describe())\n",
        "\n"
      ],
      "metadata": {
        "colab": {
          "base_uri": "https://localhost:8080/"
        },
        "id": "lvBV59z4kOiO",
        "outputId": "2ff2e5e0-6733-4e53-9025-7b1bd4020b1f"
      },
      "execution_count": 6,
      "outputs": [
        {
          "output_type": "stream",
          "name": "stdout",
          "text": [
            "df_csv.head(2):     longitude  latitude  housing_median_age  total_rooms  total_bedrooms  \\\n",
            "0    -122.05     37.37                27.0       3885.0           661.0   \n",
            "1    -118.30     34.26                43.0       1510.0           310.0   \n",
            "\n",
            "   population  households  median_income  median_house_value  \n",
            "0      1537.0       606.0         6.6085            344700.0  \n",
            "1       809.0       277.0         3.5990            176500.0  \n",
            "df_csv.tail(2):        longitude  latitude  housing_median_age  total_rooms  total_bedrooms  \\\n",
            "2998    -117.12     34.10                40.0         96.0            14.0   \n",
            "2999    -119.63     34.42                42.0       1765.0           263.0   \n",
            "\n",
            "      population  households  median_income  median_house_value  \n",
            "2998        46.0        14.0         3.2708            162500.0  \n",
            "2999       753.0       260.0         8.5608            500001.0  \n",
            "creating series:  0   -122.05\n",
            "1   -118.30\n",
            "Name: longitude, dtype: float64\n",
            "<class 'pandas.core.frame.DataFrame'>\n",
            "RangeIndex: 3000 entries, 0 to 2999\n",
            "Data columns (total 9 columns):\n",
            " #   Column              Non-Null Count  Dtype  \n",
            "---  ------              --------------  -----  \n",
            " 0   longitude           3000 non-null   float64\n",
            " 1   latitude            3000 non-null   float64\n",
            " 2   housing_median_age  3000 non-null   float64\n",
            " 3   total_rooms         3000 non-null   float64\n",
            " 4   total_bedrooms      3000 non-null   float64\n",
            " 5   population          3000 non-null   float64\n",
            " 6   households          3000 non-null   float64\n",
            " 7   median_income       3000 non-null   float64\n",
            " 8   median_house_value  3000 non-null   float64\n",
            "dtypes: float64(9)\n",
            "memory usage: 211.1 KB\n",
            "df_csv.info() None\n",
            "df_csv.describe()          longitude    latitude  housing_median_age   total_rooms  \\\n",
            "count  3000.000000  3000.00000         3000.000000   3000.000000   \n",
            "mean   -119.589200    35.63539           28.845333   2599.578667   \n",
            "std       1.994936     2.12967           12.555396   2155.593332   \n",
            "min    -124.180000    32.56000            1.000000      6.000000   \n",
            "25%    -121.810000    33.93000           18.000000   1401.000000   \n",
            "50%    -118.485000    34.27000           29.000000   2106.000000   \n",
            "75%    -118.020000    37.69000           37.000000   3129.000000   \n",
            "max    -114.490000    41.92000           52.000000  30450.000000   \n",
            "\n",
            "       total_bedrooms    population  households  median_income  \\\n",
            "count     3000.000000   3000.000000  3000.00000    3000.000000   \n",
            "mean       529.950667   1402.798667   489.91200       3.807272   \n",
            "std        415.654368   1030.543012   365.42271       1.854512   \n",
            "min          2.000000      5.000000     2.00000       0.499900   \n",
            "25%        291.000000    780.000000   273.00000       2.544000   \n",
            "50%        437.000000   1155.000000   409.50000       3.487150   \n",
            "75%        636.000000   1742.750000   597.25000       4.656475   \n",
            "max       5419.000000  11935.000000  4930.00000      15.000100   \n",
            "\n",
            "       median_house_value  \n",
            "count          3000.00000  \n",
            "mean         205846.27500  \n",
            "std          113119.68747  \n",
            "min           22500.00000  \n",
            "25%          121200.00000  \n",
            "50%          177650.00000  \n",
            "75%          263975.00000  \n",
            "max          500001.00000  \n"
          ]
        }
      ]
    },
    {
      "cell_type": "code",
      "source": [
        "# operations\n",
        "# 1. select columns from DataFrame\n",
        "print(\"select columns from DataFrame: \", df_csv[['longitude', 'latitude']].head(2))\n",
        "\n",
        "# add column to DataFrame\n",
        "# https://www.geeksforgeeks.org/dealing-with-rows-and-columns-in-pandas-dataframe/?ref=lbp\n",
        "df_dict['age'] = [20, 23, 25]\n",
        "print(\"added age column to df_dict : \", df_dict)\n",
        "\n",
        "# drop columns from DataFram\n",
        "# https://www.geeksforgeeks.org/python-delete-rows-columns-from-dataframe-using-pandas-drop/?ref=lbp\n",
        "# axis = 1 for columns and 0 for rows drop\n",
        "# inplace = True make changes in original dataframe\n",
        "df_dict.drop(['age'], axis=1, inplace=True)\n",
        "print(df_dict)\n",
        "\n",
        "# join two DataFrames\n",
        "df_dict2 = pd.DataFrame(dict2)\n",
        "df_joined = pd.concat([df_dict, df_dict2])\n",
        "print(df_joined)"
      ],
      "metadata": {
        "colab": {
          "base_uri": "https://localhost:8080/"
        },
        "id": "snGxqACduT_U",
        "outputId": "5d96c743-7996-4182-e1a2-fa5f40db9a6d"
      },
      "execution_count": 14,
      "outputs": [
        {
          "output_type": "stream",
          "name": "stdout",
          "text": [
            "select columns from DataFrame:     longitude  latitude\n",
            "0    -122.05     37.37\n",
            "1    -118.30     34.26\n",
            "added age column to df_dict :     calories  duration  age\n",
            "0       420        50   20\n",
            "1       380        40   23\n",
            "2       390        45   25\n",
            "   calories  duration\n",
            "0       420        50\n",
            "1       380        40\n",
            "2       390        45\n",
            "   calories  duration\n",
            "0       420        50\n",
            "1       380        40\n",
            "2       390        45\n",
            "0       500        50\n",
            "1      1000        48\n",
            "2      2000        56\n"
          ]
        }
      ]
    },
    {
      "cell_type": "code",
      "source": [
        "# cleaning/analyze Data\n",
        "# https://www.kaggle.com/code/kashnitsky/topic-1-exploratory-data-analysis-with-pandas\n",
        "print(df_csv.info(), df_csv.shape, df_csv.columns)"
      ],
      "metadata": {
        "id": "ejNRdxuufDHP",
        "outputId": "e2734fa4-72bb-4e32-b30b-88fda65274b6",
        "colab": {
          "base_uri": "https://localhost:8080/"
        }
      },
      "execution_count": 19,
      "outputs": [
        {
          "output_type": "stream",
          "name": "stdout",
          "text": [
            "<class 'pandas.core.frame.DataFrame'>\n",
            "RangeIndex: 3000 entries, 0 to 2999\n",
            "Data columns (total 9 columns):\n",
            " #   Column              Non-Null Count  Dtype  \n",
            "---  ------              --------------  -----  \n",
            " 0   longitude           3000 non-null   float64\n",
            " 1   latitude            3000 non-null   float64\n",
            " 2   housing_median_age  3000 non-null   float64\n",
            " 3   total_rooms         3000 non-null   float64\n",
            " 4   total_bedrooms      3000 non-null   float64\n",
            " 5   population          3000 non-null   float64\n",
            " 6   households          3000 non-null   float64\n",
            " 7   median_income       3000 non-null   float64\n",
            " 8   median_house_value  3000 non-null   float64\n",
            "dtypes: float64(9)\n",
            "memory usage: 211.1 KB\n",
            "None (3000, 9) Index(['longitude', 'latitude', 'housing_median_age', 'total_rooms',\n",
            "       'total_bedrooms', 'population', 'households', 'median_income',\n",
            "       'median_house_value'],\n",
            "      dtype='object')\n"
          ]
        }
      ]
    }
  ],
  "metadata": {
    "colab": {
      "name": "Welcome To Colab",
      "provenance": [],
      "include_colab_link": true
    },
    "kernelspec": {
      "display_name": "Python 3",
      "name": "python3"
    }
  },
  "nbformat": 4,
  "nbformat_minor": 0
}